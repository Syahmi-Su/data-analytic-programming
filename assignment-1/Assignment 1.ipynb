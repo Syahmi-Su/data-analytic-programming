{
 "cells": [
  {
   "cell_type": "markdown",
   "metadata": {},
   "source": [
    "### ASSIGNMENT 1 \n",
    "**Topic: Data Structure, Functions and Files in Python**\n",
    "- Due: 1 week from announcement.\n",
    "- Mode: Individual\n",
    "- Submission: E-Learning\n",
    "\n",
    "Given a data file that consists of an example daily sale information recorded manually for each of the transaction for a certain period. The information in the file consists of date, item name, amount sold, and price per unit.\n",
    "\n",
    "<br>\n",
    "<img src='Fig1.png' width='300px'>\n",
    "The sample of the data\n",
    "\n",
    "**INSTRUCTIONS:**\n",
    "1. Reads the data file in Python.\n",
    "2. Creates a function in Python called: **calculate_daily_sale** that:\n",
    "   - Able to calculate and return the sale of each item for every day.\n",
    "   - You need to determine the data structure for the returned information, where the returned result should be able to be accessed to show the sale of exact item on a specified day. E.g.: \n",
    "      - ```result[“2020-09-25”]``` *will returns the sale for each item on that day.*\n",
    "      - ```result[“2020-09-25”][“Item_B”]``` *will returns the sale of Item B on that day.*\n",
    "3. Creates a function in Python called: **get_total_sale** that:\n",
    "   - Able to combine the sale of a specific item throughout the period in the data file.\n",
    "   - The function should receive ONE argument:\n",
    "     - The result variable returned form **calculate_daily_sale**\n",
    "   - The function should return the totals sale of each item throughout the period.\n",
    "4. Submit your Python Notebook in the E-Learning."
   ]
  },
  {
   "cell_type": "code",
   "execution_count": 132,
   "metadata": {
    "scrolled": true
   },
   "outputs": [],
   "source": [
    "with open(\"data_assignment_1.txt\") as invoice:\n",
    "    \n",
    "    _list = []\n",
    "    inv_list = []\n",
    "    dates = []\n",
    "    \n",
    "    \n",
    "    \n",
    "    for line in invoice:\n",
    "        _list.append(line)\n",
    "        \n",
    "    for a in range(0, len(_list)):\n",
    "        whitespc = _list[a].strip().split()\n",
    "        inv_list.append(whitespc)\n",
    "\n"
   ]
  },
  {
   "cell_type": "code",
   "execution_count": 200,
   "metadata": {},
   "outputs": [],
   "source": [
    "def calculate_daily_sale(date, item = '0'):\n",
    "    totalA = 0\n",
    "    totalB = 0\n",
    "    totalC = 0\n",
    "    totalD = 0\n",
    "    totalE = 0\n",
    "    totalF = 0\n",
    "    totalT = 0\n",
    "    \n",
    "    if item == '0' :\n",
    "        for i in range(len(inv_list)):\n",
    "            if date == inv_list[i][0]:\n",
    "                if inv_list[i][1] == 'Item_A':\n",
    "                    totalA += int(inv_list[i][2])*float(inv_list[i][3])\n",
    "                elif inv_list[i][1] == 'Item_B':\n",
    "                     totalB += int(inv_list[i][2])*float(inv_list[i][3])\n",
    "                elif inv_list[i][1] == 'Item_C':\n",
    "                    totalC += int(inv_list[i][2])*float(inv_list[i][3])\n",
    "                elif inv_list[i][1] == 'Item_D':\n",
    "                    totalD += int(inv_list[i][2])*float(inv_list[i][3])\n",
    "                elif inv_list[i][1] == 'Item_E':\n",
    "                    totalE += int(inv_list[i][2])*float(inv_list[i][3])\n",
    "                elif inv_list[i][1] == 'Item_F':\n",
    "                    totalF += int(inv_list[i][2])*float(inv_list[i][3]) \n",
    "        print(\"##################################\")\n",
    "        print(\"Total Sales [\",date, \"]\")\n",
    "        print(\"##################################\\n\")\n",
    "        print(\"Item A: RM\",\"%.2f\" % totalA)\n",
    "        print()\n",
    "        print(\"Item B: RM\",\"%.2f\" % totalB)\n",
    "        print()\n",
    "        print(\"Item C: RM\",\"%.2f\" % totalC)\n",
    "        print()\n",
    "        print(\"Item D: RM\",\"%.2f\" % totalD)\n",
    "        print()\n",
    "        print(\"Item E: RM\",\"%.2f\" % totalE)\n",
    "        print()\n",
    "        print(\"Item F: RM\",\"%.2f\" % totalF)\n",
    "        print()\n",
    "        \n",
    "                \n",
    "        \n",
    "        \n",
    "    else:\n",
    "        \n",
    "        for i in range(len(inv_list)):\n",
    "            if inv_list[i][0] == date and inv_list[i][1] == item:\n",
    "                totalT += int(inv_list[i][2])*float(inv_list[i][3])\n",
    "            elif inv_list[i][0] == date and inv_list[i][1] == item:\n",
    "                totalT += int(inv_list[i][2])*float(inv_list[i][3])\n",
    "            elif inv_list[i][0] == date and inv_list[i][1] == item:\n",
    "                totalT += int(inv_list[i][2])*float(inv_list[i][3])\n",
    "            elif inv_list[i][0] == date and inv_list[i][1] == item:\n",
    "                totalT += int(inv_list[i][2])*float(inv_list[i][3])\n",
    "            elif inv_list[i][0] == date and inv_list[i][1] == item:\n",
    "                totalT += int(inv_list[i][2])*float(inv_list[i][3])\n",
    "            elif inv_list[i][0] == date and inv_list[i][1] == item:\n",
    "                totalT += int(inv_list[i][2])*float(inv_list[i][3]) \n",
    "                \n",
    "        \n",
    "        print(\"##################################\")\n",
    "        print(\"Total Sales [\",date,item,\"]\")\n",
    "        print(\"##################################\\n\")\n",
    "        print(item,\": RM\",\"%.2f\" % totalT)\n",
    "        print()\n",
    "\n",
    "\n",
    "                "
   ]
  },
  {
   "cell_type": "code",
   "execution_count": 205,
   "metadata": {},
   "outputs": [],
   "source": [
    "def get_total_sale(totalItem):\n",
    "     \n",
    "    "
   ]
  },
  {
   "cell_type": "code",
   "execution_count": 206,
   "metadata": {
    "scrolled": true
   },
   "outputs": [
    {
     "name": "stdout",
     "output_type": "stream",
     "text": [
      "##################################\n",
      "Total Sales [ 2020-09-25 ]\n",
      "##################################\n",
      "\n",
      "Item A: RM 28.50\n",
      "\n",
      "Item B: RM 7.20\n",
      "\n",
      "Item C: RM 0.00\n",
      "\n",
      "Item D: RM 37.80\n",
      "\n",
      "Item E: RM 0.00\n",
      "\n",
      "Item F: RM 0.00\n",
      "\n",
      "##################################\n",
      "Total Sales [ 2020-09-25 Item_B ]\n",
      "##################################\n",
      "\n",
      "Item_B : RM 7.20\n",
      "\n"
     ]
    },
    {
     "ename": "TypeError",
     "evalue": "'function' object is not iterable",
     "output_type": "error",
     "traceback": [
      "\u001b[1;31m---------------------------------------------------------------------------\u001b[0m",
      "\u001b[1;31mTypeError\u001b[0m                                 Traceback (most recent call last)",
      "\u001b[1;32m<ipython-input-206-1b1b13a3db39>\u001b[0m in \u001b[0;36m<module>\u001b[1;34m\u001b[0m\n\u001b[0;32m      1\u001b[0m \u001b[0mcalculate_daily_sale\u001b[0m\u001b[1;33m(\u001b[0m\u001b[1;34m'2020-09-25'\u001b[0m\u001b[1;33m)\u001b[0m\u001b[1;33m\u001b[0m\u001b[1;33m\u001b[0m\u001b[0m\n\u001b[0;32m      2\u001b[0m \u001b[0mcalculate_daily_sale\u001b[0m\u001b[1;33m(\u001b[0m\u001b[1;34m'2020-09-25'\u001b[0m\u001b[1;33m,\u001b[0m\u001b[1;34m'Item_B'\u001b[0m\u001b[1;33m)\u001b[0m\u001b[1;33m\u001b[0m\u001b[1;33m\u001b[0m\u001b[0m\n\u001b[1;32m----> 3\u001b[1;33m \u001b[0mget_total_sale\u001b[0m\u001b[1;33m(\u001b[0m\u001b[0mcalculate_daily_sale\u001b[0m\u001b[1;33m)\u001b[0m\u001b[1;33m\u001b[0m\u001b[1;33m\u001b[0m\u001b[0m\n\u001b[0m",
      "\u001b[1;32m<ipython-input-205-e9fc65430cb6>\u001b[0m in \u001b[0;36mget_total_sale\u001b[1;34m(totalItem)\u001b[0m\n\u001b[0;32m      1\u001b[0m \u001b[1;32mdef\u001b[0m \u001b[0mget_total_sale\u001b[0m\u001b[1;33m(\u001b[0m\u001b[0mtotalItem\u001b[0m\u001b[1;33m)\u001b[0m\u001b[1;33m:\u001b[0m\u001b[1;33m\u001b[0m\u001b[1;33m\u001b[0m\u001b[0m\n\u001b[1;32m----> 2\u001b[1;33m      \u001b[1;32mfor\u001b[0m \u001b[0mfunction\u001b[0m \u001b[1;32min\u001b[0m \u001b[0mtotalItem\u001b[0m\u001b[1;33m:\u001b[0m\u001b[1;33m\u001b[0m\u001b[1;33m\u001b[0m\u001b[0m\n\u001b[0m\u001b[0;32m      3\u001b[0m             \u001b[0mprint\u001b[0m\u001b[1;33m(\u001b[0m\u001b[0mtotalT\u001b[0m\u001b[1;33m)\u001b[0m\u001b[1;33m\u001b[0m\u001b[1;33m\u001b[0m\u001b[0m\n\u001b[0;32m      4\u001b[0m \u001b[1;33m\u001b[0m\u001b[0m\n",
      "\u001b[1;31mTypeError\u001b[0m: 'function' object is not iterable"
     ]
    }
   ],
   "source": [
    "calculate_daily_sale('2020-09-25')\n",
    "calculate_daily_sale('2020-09-25','Item_B')\n",
    "get_total_sale(calculate_daily_sale)"
   ]
  },
  {
   "cell_type": "code",
   "execution_count": null,
   "metadata": {},
   "outputs": [],
   "source": []
  }
 ],
 "metadata": {
  "kernelspec": {
   "display_name": "Python 3",
   "language": "python",
   "name": "python3"
  },
  "language_info": {
   "codemirror_mode": {
    "name": "ipython",
    "version": 3
   },
   "file_extension": ".py",
   "mimetype": "text/x-python",
   "name": "python",
   "nbconvert_exporter": "python",
   "pygments_lexer": "ipython3",
   "version": "3.8.3"
  }
 },
 "nbformat": 4,
 "nbformat_minor": 4
}
